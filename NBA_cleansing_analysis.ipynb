{
 "cells": [
  {
   "cell_type": "code",
   "execution_count": 1,
   "id": "d72a3ae9",
   "metadata": {
    "scrolled": true
   },
   "outputs": [
    {
     "name": "stdout",
     "output_type": "stream",
     "text": [
      "  First Name   Last Name    Salary Position       Team  Division\n",
      "0       Kobe      Bryant  27849149       SG  LA Lakers   Pacific\n",
      "1    Carmelo     Anthony  20463024       SF  NY Knicks  Atlantic\n",
      "2     Amar'e  Stoudemire  19948799       PF  NY Knicks  Atlantic\n",
      "3     Dwight      Howard  19536360        C  LA Lakers   Pacific\n",
      "4        Pau       Gasol  19000000       PF  LA Lakers   Pacific\n"
     ]
    }
   ],
   "source": [
    "#import data and text file\n",
    "import pandas as pd\n",
    "filepath = \"NBA_Player_Data.csv\"\n",
    "df = pd.read_csv(filepath)\n",
    "print(df.head()) "
   ]
  },
  {
   "cell_type": "code",
   "execution_count": 2,
   "id": "4346b34b",
   "metadata": {},
   "outputs": [
    {
     "name": "stdout",
     "output_type": "stream",
     "text": [
      "0        Kobe\n",
      "1     Carmelo\n",
      "2      Amar'e\n",
      "3      Dwight\n",
      "4         Pau\n",
      "       ...   \n",
      "77     Ronnie\n",
      "78      James\n",
      "79       Josh\n",
      "80      Chris\n",
      "81      Pablo\n",
      "Name: First Name, Length: 82, dtype: object\n",
      "0         Bryant\n",
      "1        Anthony\n",
      "2     Stoudemire\n",
      "3         Howard\n",
      "4          Gasol\n",
      "         ...    \n",
      "77        Brewer\n",
      "78         White\n",
      "79    Harrellson\n",
      "80      Copeland\n",
      "81      Prigioni\n",
      "Name: Last Name, Length: 82, dtype: object\n",
      "0     27849149\n",
      "1     20463024\n",
      "2     19948799\n",
      "3     19536360\n",
      "4     19000000\n",
      "        ...   \n",
      "77      854389\n",
      "78      854389\n",
      "79      762195\n",
      "80      473604\n",
      "81      473604\n",
      "Name: Salary, Length: 82, dtype: int64\n",
      "LA Lakers\n",
      "0     Pacific\n",
      "1    Atlantic\n",
      "2    Atlantic\n",
      "3     Pacific\n",
      "4     Pacific\n",
      "Name: Division, dtype: object\n"
     ]
    }
   ],
   "source": [
    "#report contents on column\n",
    "print(df[\"First Name\"])\n",
    "print(df[\"Last Name\"])\n",
    "print(df[\"Salary\"])\n",
    "print(df[\"Team\"][0])\n",
    "print(df.head(5)[\"Division\"]) \n"
   ]
  },
  {
   "cell_type": "code",
   "execution_count": 3,
   "id": "6d3b8990",
   "metadata": {
    "scrolled": true
   },
   "outputs": [
    {
     "name": "stdout",
     "output_type": "stream",
     "text": [
      "   First Name Last Name   Salary Position              Team   Division\n",
      "22      James    Harden  5820417       SG  Oklahoma Thunder  Northwest\n",
      "54      James     Jones  1500000       SF        Miami Heat  Southeast\n",
      "78      James     White   854389       SF         NY Knicks   Atlantic\n",
      "   First Name Last Name    Salary Position        Team   Division\n",
      "1     Carmelo   Anthony  20463024       SF   NY Knicks   Atlantic\n",
      "33       Joel   Anthony   3750000        C  Miami Heat  Southeast\n"
     ]
    }
   ],
   "source": [
    "#search players by name\n",
    "print(df.loc[df[\"First Name\"]==\"James\"])\n",
    "print(df.loc[df[\"Last Name\"]==\"Anthony\"]) "
   ]
  },
  {
   "cell_type": "code",
   "execution_count": 11,
   "id": "afd7ba0b",
   "metadata": {},
   "outputs": [
    {
     "name": "stdout",
     "output_type": "stream",
     "text": [
      "1     Carmelo\n",
      "33       Joel\n",
      "Name: First Name, dtype: object\n",
      "1     Anthony\n",
      "33    Anthony\n",
      "Name: Last Name, dtype: object\n",
      "1      NY Knicks\n",
      "33    Miami Heat\n",
      "Name: Team, dtype: object\n",
      "   First Name Last Name        Team\n",
      "1     Carmelo   Anthony   NY Knicks\n",
      "33       Joel   Anthony  Miami Heat\n"
     ]
    }
   ],
   "source": [
    "#filtering and getting additional rows- not part of activitiy\n",
    "print(df.loc[df[\"Last Name\"]==\"Anthony\"][\"First Name\"])\n",
    "print(df.loc[df[\"Last Name\"]==\"Anthony\"][\"Last Name\"])\n",
    "print(df.loc[df[\"Last Name\"]==\"Anthony\"][\"Team\"])\n",
    "print(df.loc[df[\"Last Name\"]==\"Anthony\"][[\"First Name\",\"Last Name\",\"Team\"]])"
   ]
  },
  {
   "cell_type": "code",
   "execution_count": 4,
   "id": "430c793d",
   "metadata": {},
   "outputs": [
    {
     "data": {
      "image/png": "[encoded data removed]",
      "text/plain": [
       "<Figure size 432x288 with 1 Axes>"
      ]
     },
     "metadata": {
      "needs_background": "light"
     },
     "output_type": "display_data"
    },
    {
     "data": {
      "image/png": "[encoded data removed]",
      "text/plain": [
       "<Figure size 432x288 with 1 Axes>"
      ]
     },
     "metadata": {
      "needs_background": "light"
     },
     "output_type": "display_data"
    }
   ],
   "source": [
    "#viualize salaries on histogram\n",
    "import matplotlib.pyplot as plt\n",
    "df[\"Salary\"].hist()\n",
    "plt.show()\n",
    "plt.hist(df[\"Salary\"])\n",
    "plt.show() "
   ]
  },
  {
   "cell_type": "code",
   "execution_count": 5,
   "id": "eedb48a0",
   "metadata": {},
   "outputs": [
    {
     "name": "stdout",
     "output_type": "stream",
     "text": [
      "   First Name Last Name    Salary Position               Team   Division\n",
      "3      Dwight    Howard  19536360        C          LA Lakers    Pacific\n",
      "5       Chris      Bosh  17545000        C         Miami Heat  Southeast\n",
      "10     Carlos    Boozer  15000000        C      Chicago Bulls    Central\n",
      "13      Tyson  Chandler  13604188        C          NY Knicks   Atlantic\n",
      "16     Joakim      Noah  11300000        C      Chicago Bulls    Central\n",
      "18        Tim    Duncan   9638554        C  San Antonio Spurs  Southeast\n",
      "20   Kendrick   Perkins   8300531        C   Oklahoma Thunder  Northwest\n",
      "25     Marcus     Camby   4590338        C          NY Knicks   Atlantic\n",
      "31      Tiago  Splitter   3944000        C  San Antonio Spurs  Southeast\n",
      "33       Joel   Anthony   3750000        C         Miami Heat  Southeast\n",
      "46       Cole   Aldrich   2445480        C   Oklahoma Thunder  Northwest\n",
      "48      Serge     Ibaka   2253062        C   Oklahoma Thunder  Northwest\n",
      "57       Kurt    Thomas   1352181        C          NY Knicks   Atlantic\n",
      "60    Hasheem   Thabeet   1200000        C   Oklahoma Thunder  Northwest\n",
      "67     DeJuan     Blair   1054000        C  San Antonio Spurs  Southeast\n",
      "70       Nazr  Mohammed    854389        C      Chicago Bulls    Central\n",
      "75     Dexter   Pittman    854389        C         Miami Heat  Southeast\n",
      "   First Name  Last Name    Salary Position               Team   Division\n",
      "0        Kobe     Bryant  27849149       SG          LA Lakers    Pacific\n",
      "6      LeBron      James  17545000       SG         Miami Heat  Southeast\n",
      "11       Manu   Ginobili  14107492       SG  San Antonio Spurs  Southeast\n",
      "22      James     Harden   5820417       SG   Oklahoma Thunder  Northwest\n",
      "24    Richard   Hamilton   5000000       SG      Chicago Bulls    Central\n",
      "35      Thabo  Sefolosha   3600000       SG   Oklahoma Thunder  Northwest\n",
      "38      Danny      Green   3500000       SG  San Antonio Spurs  Southeast\n",
      "42        Ray      Allen   3090000       SG         Miami Heat  Southeast\n",
      "45         JR      Smith   2806452       SG          NY Knicks   Atlantic\n",
      "50      Marco  Belinelli   1957000       SG      Chicago Bulls    Central\n",
      "52       Iman   Shumpert   1633440       SG          NY Knicks   Atlantic\n",
      "53      Jodie      Meeks   1500000       SG          LA Lakers    Pacific\n",
      "59     Reggie    Jackson   1208400       SG   Oklahoma Thunder  Northwest\n",
      "64       Cory     Joseph   1074720       SG  San Antonio Spurs  Southeast\n",
      "65      Jimmy     Butler   1066920       SG      Chicago Bulls    Central\n",
      "68     Darius     Morris    962195       SG          LA Lakers    Pacific\n",
      "69     Marcus     Teague    857000       SG      Chicago Bulls    Central\n",
      "76    Garrett     Temple    854389       SG         Miami Heat  Southeast\n",
      "77     Ronnie     Brewer    854389       SG          NY Knicks   Atlantic\n"
     ]
    }
   ],
   "source": [
    "#which position earns the most?\n",
    "C_player = df.loc[df[\"Position\"]==\"C\"]\n",
    "print(C_player)\n",
    "SG_player = df.loc[df[\"Position\"]==\"SG\"]\n",
    "print(SG_player) "
   ]
  },
  {
   "cell_type": "code",
   "execution_count": 6,
   "id": "c76b4422",
   "metadata": {},
   "outputs": [
    {
     "name": "stdout",
     "output_type": "stream",
     "text": [
      "       First      Last  Salary_C Pos               Team        Div\n",
      "3     Dwight    Howard  19536360   C          LA Lakers    Pacific\n",
      "5      Chris      Bosh  17545000   C         Miami Heat  Southeast\n",
      "10    Carlos    Boozer  15000000   C      Chicago Bulls    Central\n",
      "13     Tyson  Chandler  13604188   C          NY Knicks   Atlantic\n",
      "16    Joakim      Noah  11300000   C      Chicago Bulls    Central\n",
      "18       Tim    Duncan   9638554   C  San Antonio Spurs  Southeast\n",
      "20  Kendrick   Perkins   8300531   C   Oklahoma Thunder  Northwest\n",
      "25    Marcus     Camby   4590338   C          NY Knicks   Atlantic\n",
      "31     Tiago  Splitter   3944000   C  San Antonio Spurs  Southeast\n",
      "33      Joel   Anthony   3750000   C         Miami Heat  Southeast\n",
      "46      Cole   Aldrich   2445480   C   Oklahoma Thunder  Northwest\n",
      "48     Serge     Ibaka   2253062   C   Oklahoma Thunder  Northwest\n",
      "57      Kurt    Thomas   1352181   C          NY Knicks   Atlantic\n",
      "60   Hasheem   Thabeet   1200000   C   Oklahoma Thunder  Northwest\n",
      "67    DeJuan     Blair   1054000   C  San Antonio Spurs  Southeast\n",
      "70      Nazr  Mohammed    854389   C      Chicago Bulls    Central\n",
      "75    Dexter   Pittman    854389   C         Miami Heat  Southeast\n",
      "      First       Last  Salary_SG Pos               Team        Div\n",
      "0      Kobe     Bryant   27849149  SG          LA Lakers    Pacific\n",
      "6    LeBron      James   17545000  SG         Miami Heat  Southeast\n",
      "11     Manu   Ginobili   14107492  SG  San Antonio Spurs  Southeast\n",
      "22    James     Harden    5820417  SG   Oklahoma Thunder  Northwest\n",
      "24  Richard   Hamilton    5000000  SG      Chicago Bulls    Central\n",
      "35    Thabo  Sefolosha    3600000  SG   Oklahoma Thunder  Northwest\n",
      "38    Danny      Green    3500000  SG  San Antonio Spurs  Southeast\n",
      "42      Ray      Allen    3090000  SG         Miami Heat  Southeast\n",
      "45       JR      Smith    2806452  SG          NY Knicks   Atlantic\n",
      "50    Marco  Belinelli    1957000  SG      Chicago Bulls    Central\n",
      "52     Iman   Shumpert    1633440  SG          NY Knicks   Atlantic\n",
      "53    Jodie      Meeks    1500000  SG          LA Lakers    Pacific\n",
      "59   Reggie    Jackson    1208400  SG   Oklahoma Thunder  Northwest\n",
      "64     Cory     Joseph    1074720  SG  San Antonio Spurs  Southeast\n",
      "65    Jimmy     Butler    1066920  SG      Chicago Bulls    Central\n",
      "68   Darius     Morris     962195  SG          LA Lakers    Pacific\n",
      "69   Marcus     Teague     857000  SG      Chicago Bulls    Central\n",
      "76  Garrett     Temple     854389  SG         Miami Heat  Southeast\n",
      "77   Ronnie     Brewer     854389  SG          NY Knicks   Atlantic\n"
     ]
    }
   ],
   "source": [
    "#which player earns the most\n",
    "C_player.columns=[\"First\",\"Last\",\"Salary_C\", \"Pos\",\"Team\",\"Div\"]\n",
    "print(C_player)\n",
    "SG_player.columns=[\"First\",\"Last\",\"Salary_SG\", \"Pos\",\"Team\",\"Div\"]\n",
    "print(SG_player) "
   ]
  },
  {
   "cell_type": "code",
   "execution_count": 7,
   "id": "882aa45c",
   "metadata": {},
   "outputs": [
    {
     "name": "stdout",
     "output_type": "stream",
     "text": [
      "    index     First      Last  Salary_C Pos               Team        Div\n",
      "0       3    Dwight    Howard  19536360   C          LA Lakers    Pacific\n",
      "1       5     Chris      Bosh  17545000   C         Miami Heat  Southeast\n",
      "2      10    Carlos    Boozer  15000000   C      Chicago Bulls    Central\n",
      "3      13     Tyson  Chandler  13604188   C          NY Knicks   Atlantic\n",
      "4      16    Joakim      Noah  11300000   C      Chicago Bulls    Central\n",
      "5      18       Tim    Duncan   9638554   C  San Antonio Spurs  Southeast\n",
      "6      20  Kendrick   Perkins   8300531   C   Oklahoma Thunder  Northwest\n",
      "7      25    Marcus     Camby   4590338   C          NY Knicks   Atlantic\n",
      "8      31     Tiago  Splitter   3944000   C  San Antonio Spurs  Southeast\n",
      "9      33      Joel   Anthony   3750000   C         Miami Heat  Southeast\n",
      "10     46      Cole   Aldrich   2445480   C   Oklahoma Thunder  Northwest\n",
      "11     48     Serge     Ibaka   2253062   C   Oklahoma Thunder  Northwest\n",
      "12     57      Kurt    Thomas   1352181   C          NY Knicks   Atlantic\n",
      "13     60   Hasheem   Thabeet   1200000   C   Oklahoma Thunder  Northwest\n",
      "14     67    DeJuan     Blair   1054000   C  San Antonio Spurs  Southeast\n",
      "15     70      Nazr  Mohammed    854389   C      Chicago Bulls    Central\n",
      "16     75    Dexter   Pittman    854389   C         Miami Heat  Southeast\n",
      "    index    First       Last  Salary_SG Pos               Team        Div\n",
      "0       0     Kobe     Bryant   27849149  SG          LA Lakers    Pacific\n",
      "1       6   LeBron      James   17545000  SG         Miami Heat  Southeast\n",
      "2      11     Manu   Ginobili   14107492  SG  San Antonio Spurs  Southeast\n",
      "3      22    James     Harden    5820417  SG   Oklahoma Thunder  Northwest\n",
      "4      24  Richard   Hamilton    5000000  SG      Chicago Bulls    Central\n",
      "5      35    Thabo  Sefolosha    3600000  SG   Oklahoma Thunder  Northwest\n",
      "6      38    Danny      Green    3500000  SG  San Antonio Spurs  Southeast\n",
      "7      42      Ray      Allen    3090000  SG         Miami Heat  Southeast\n",
      "8      45       JR      Smith    2806452  SG          NY Knicks   Atlantic\n",
      "9      50    Marco  Belinelli    1957000  SG      Chicago Bulls    Central\n",
      "10     52     Iman   Shumpert    1633440  SG          NY Knicks   Atlantic\n",
      "11     53    Jodie      Meeks    1500000  SG          LA Lakers    Pacific\n",
      "12     59   Reggie    Jackson    1208400  SG   Oklahoma Thunder  Northwest\n",
      "13     64     Cory     Joseph    1074720  SG  San Antonio Spurs  Southeast\n",
      "14     65    Jimmy     Butler    1066920  SG      Chicago Bulls    Central\n",
      "15     68   Darius     Morris     962195  SG          LA Lakers    Pacific\n",
      "16     69   Marcus     Teague     857000  SG      Chicago Bulls    Central\n",
      "17     76  Garrett     Temple     854389  SG         Miami Heat  Southeast\n",
      "18     77   Ronnie     Brewer     854389  SG          NY Knicks   Atlantic\n"
     ]
    }
   ],
   "source": [
    "#renumber rows\n",
    "C_player = C_player.reset_index()\n",
    "print(C_player)\n",
    "SG_player = SG_player.reset_index()\n",
    "print(SG_player) "
   ]
  },
  {
   "cell_type": "code",
   "execution_count": 8,
   "id": "b8701368",
   "metadata": {},
   "outputs": [
    {
     "name": "stdout",
     "output_type": "stream",
     "text": [
      "    Salary_C  Salary_SG\n",
      "0   19536360   27849149\n",
      "1   17545000   17545000\n",
      "2   15000000   14107492\n",
      "3   13604188    5820417\n",
      "4   11300000    5000000\n",
      "5    9638554    3600000\n",
      "6    8300531    3500000\n",
      "7    4590338    3090000\n",
      "8    3944000    2806452\n",
      "9    3750000    1957000\n",
      "10   2445480    1633440\n",
      "11   2253062    1500000\n",
      "12   1352181    1208400\n",
      "13   1200000    1074720\n",
      "14   1054000    1066920\n"
     ]
    }
   ],
   "source": [
    "#partition top 15 salaries\n",
    "salary = pd.concat([C_player[\"Salary_C\"][0:15],SG_player[\"Salary_SG\"][0:15]],axis=1)\n",
    "print(salary) "
   ]
  },
  {
   "cell_type": "code",
   "execution_count": 9,
   "id": "c0dbf639",
   "metadata": {},
   "outputs": [
    {
     "name": "stdout",
     "output_type": "stream",
     "text": [
      "27849149\n",
      "473604\n",
      "5692881.609756097\n",
      "count    8.200000e+01\n",
      "mean     5.692882e+06\n",
      "std      6.309205e+06\n",
      "min      4.736040e+05\n",
      "25%      1.180560e+06\n",
      "50%      3.112971e+06\n",
      "75%      8.040138e+06\n",
      "max      2.784915e+07\n",
      "Name: Salary, dtype: float64\n"
     ]
    }
   ],
   "source": [
    "#descriptive statistics\n",
    "print(df['Salary'].max())\n",
    "print(df['Salary'].min())\n",
    "print(df['Salary'].mean())\n",
    "print(df['Salary'].describe()) "
   ]
  },
  {
   "cell_type": "code",
   "execution_count": 10,
   "id": "a8b66de8",
   "metadata": {},
   "outputs": [
    {
     "data": {
      "image/png": "[encoded data removed]",
      "text/plain": [
       "<Figure size 432x288 with 1 Axes>"
      ]
     },
     "metadata": {
      "needs_background": "light"
     },
     "output_type": "display_data"
    }
   ],
   "source": [
    "#which position earns more in a team?\n",
    "import matplotlib.pyplot as plt\n",
    "salary.plot(kind=\"scatter\",x=\"Salary_SG\",y=\"Salary_C\",s=salary[\"Salary_C\"]/100000,\n",
    "color='r')\n",
    "plt.plot([0,30000000],[0,30000000])\n",
    "plt.show() \n"
   ]
  },
  {
   "cell_type": "code",
   "execution_count": null,
   "id": "01ec8a17",
   "metadata": {},
   "outputs": [],
   "source": []
  }
 ],
 "metadata": {
  "kernelspec": {
   "display_name": "Python 3",
   "language": "python",
   "name": "python3"
  },
  "language_info": {
   "codemirror_mode": {
    "name": "ipython",
    "version": 3
   },
   "file_extension": ".py",
   "mimetype": "text/x-python",
   "name": "python",
   "nbconvert_exporter": "python",
   "pygments_lexer": "ipython3",
   "version": "3.8.8"
  }
 },
 "nbformat": 4,
 "nbformat_minor": 5
}
